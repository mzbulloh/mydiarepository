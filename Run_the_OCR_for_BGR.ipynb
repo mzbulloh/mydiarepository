# pip  install tesseract-ocr
# pip install pytesseract
# pip install opencv-python-headless
pip install easyocr


from PIL import Image, ImageEnhance
import cv2
import numpy as np
import easyocr


def enhance_contrast(image):
    enhancer = ImageEnhance.Contrast(image)
    return enhancer.enhance(1.1)  # Moderate contrast enhancement

def crop_img(img, scale=0.15):
    height_scaled = img.shape[0] - img.shape[0] * scale
    top_y = height_scaled
    img_cropped = img[int(top_y):, :]
    return img_cropped

def preprocess_image(image):
    grayscaleImage = cv2.cvtColor(np.array(image), cv2.COLOR_BGR2GRAY)

    #laplacian = cv2.Laplacian(grayscaleImage, cv2.CV_64F)
    #sharpened = cv2.filter2D(grayscaleImage, -1, kernel)
    kernel = np.ones((1, 1), np.uint8)
    img = cv2.dilate(grayscaleImage, kernel, iterations=1)
    img = cv2.erode(img, kernel, iterations=1)

    enhanced=enhance_contrast(Image.fromarray(img))
    return enhanced

def extract_bottom_text(image_path):

    inputImage = cv2.imread(image_path)
    cropped_image=crop_img(inputImage)
    preprocessed_image = preprocess_image(cropped_image)

    # Display the cropped image
    plt.imshow(cropped_image)
    plt.title('Cropped Image')
    plt.show()


    # Display the preprocessed image
    plt.imshow(preprocessed_image, cmap='gray')
    plt.title('Preprocessed Image')
    plt.show()

    return preprocessed_image

# Upload an image
uploaded = files.upload()

reader= easyocr.Reader(['id'], gpu = True)
image_pil=extract_bottom_text(image_path)
bound=reader.readtext(np.asarray(image_pil),paragraph=True)
print(bound)
