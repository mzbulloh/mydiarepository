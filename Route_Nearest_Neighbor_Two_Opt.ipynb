{
  "nbformat": 4,
  "nbformat_minor": 0,
  "metadata": {
    "colab": {
      "provenance": []
    },
    "kernelspec": {
      "name": "python3",
      "display_name": "Python 3"
    },
    "language_info": {
      "name": "python"
    }
  },
  "cells": [
    {
      "cell_type": "code",
      "execution_count": null,
      "metadata": {
        "id": "2znmFqA8L__-"
      },
      "outputs": [],
      "source": [
        "import pandas as pd\n",
        "import seaborn as sns\n",
        "import matplotlib.pyplot as plt\n",
        "import numpy as np\n",
        "import datetime\n",
        "import missingno as msno\n",
        "from textwrap import wrap\n",
        "import pandas_gbq\n",
        "from datetime import datetime\n",
        "from datetime import timedelta\n",
        "from collections import defaultdict"
      ]
    },
    {
      "cell_type": "code",
      "source": [
        "import gspread\n",
        "import pandas as pd\n",
        "from google.colab import auth\n",
        "auth.authenticate_user()\n",
        "from google.auth import default\n",
        "\n",
        "creds, _ = default()\n",
        "gc = gspread.authorize(creds)"
      ],
      "metadata": {
        "id": "agYHRmX4RlBq"
      },
      "execution_count": null,
      "outputs": []
    },
    {
      "cell_type": "code",
      "source": [
        "#import libraries\n",
        "import numpy as np\n",
        "import pandas as pd\n",
        "\n",
        "# def read_excel_file(filename, sheet_name):\n",
        "#     \"\"\"\n",
        "#     Read coordinates and demand values from a specific sheet in an Excel file.\n",
        "#     Assumes the data is in columns labeled 'X', 'Y', and 'Demand'.\n",
        "#     \"\"\"\n",
        "#     df = pd.read_excel(filename, sheet_name=sheet_name)\n",
        "#     coordinates = df[['X', 'Y']].values\n",
        "#     demands = df['Demand'].values\n",
        "#     return coordinates, demands\n",
        "\n",
        "def read_gsheet_file(filename, sheet_name):\n",
        "    \"\"\"\n",
        "    Read coordinates and demand values from a specific sheet in an Excel file.\n",
        "    Assumes the data is in columns labeled 'X', 'Y', and 'Demand'.\n",
        "    \"\"\"\n",
        "    gsheets = gc.open_by_url(filename)\n",
        "    sheets = gsheets.worksheet(sheet_name).get_all_values()\n",
        "    df = pd.DataFrame(sheets[1:], columns=sheets[0])\n",
        "    df['X']=df['X'].astype('int')\n",
        "    df['Y']=df['Y'].astype('int')\n",
        "    df['Demand']=df['Demand'].astype('int')\n",
        "    coordinates = df[['X', 'Y']].values\n",
        "    demands = df['Demand'].values\n",
        "    return coordinates, demands\n",
        "\n",
        "def calculate_distance(coordinates, i, j):\n",
        "    \"\"\"\n",
        "    Calculate the Euclidean distance between two points.\n",
        "    \"\"\"\n",
        "    x1, y1 = coordinates[i]\n",
        "    x2, y2 = coordinates[j]\n",
        "    return np.sqrt((x1 - x2) ** 2 + (y1 - y2) ** 2)\n",
        "\n",
        "def calculate_distance_matrix(coordinates):\n",
        "    \"\"\"\n",
        "    Calculate the distance matrix between coordinates.\n",
        "    \"\"\"\n",
        "    num_points = len(coordinates)\n",
        "    dist_matrix = np.zeros((num_points, num_points))\n",
        "\n",
        "    for i in range(num_points):\n",
        "        for j in range(num_points):\n",
        "            dist_matrix[i, j] = calculate_distance(coordinates, i, j)\n",
        "\n",
        "    return dist_matrix\n",
        "\n",
        "def calculate_total_distance(route, dist_matrix):\n",
        "    \"\"\"\n",
        "    Calculate the total distance of a given route using the distance matrix.\n",
        "    \"\"\"\n",
        "    total_distance = 0\n",
        "    num_points = len(route)\n",
        "\n",
        "    for i in range(num_points - 1):\n",
        "        current_node = route[i]\n",
        "        next_node = route[i + 1]\n",
        "        total_distance += dist_matrix[current_node, next_node]\n",
        "\n",
        "    return total_distance<=cap\n",
        "\n",
        "\n",
        "def nearest_neighbor(dist_matrix, demands, capacity):\n",
        "    \"\"\"\n",
        "    Apply the Nearest Neighbor heuristic to find initial routes for VRP.\n",
        "    \"\"\"\n",
        "    num_points = dist_matrix.shape[0]\n",
        "    visited = np.zeros(num_points, dtype=bool)\n",
        "    routes = []\n",
        "\n",
        "    while np.sum(visited) < num_points:\n",
        "        current_node = 0  # Start at node 0\n",
        "        current_capacity = 0\n",
        "        route = [current_node]\n",
        "        visited[current_node] = True\n",
        "\n",
        "        while current_capacity + demands[current_node] <= capacity:\n",
        "            current = route[-1]\n",
        "            nearest = None\n",
        "            min_dist = float('inf')\n",
        "\n",
        "            for neighbor in np.where(~visited)[0]:\n",
        "                if demands[neighbor] + current_capacity <= capacity and dist_matrix[current, neighbor] < min_dist:\n",
        "                    nearest = neighbor\n",
        "                    min_dist = dist_matrix[current, neighbor]\n",
        "\n",
        "            if nearest is None:\n",
        "                break\n",
        "\n",
        "            route.append(nearest)\n",
        "            visited[nearest] = True\n",
        "            current_capacity += demands[nearest]\n",
        "\n",
        "        routes.append(route)\n",
        "\n",
        "    return routes\n",
        "\n",
        "\n",
        "def format_output(routes):\n",
        "    \"\"\"\n",
        "    Format the final routes as required.\n",
        "    In this example, it returns a list of routes.\n",
        "    \"\"\"\n",
        "    return routes\n",
        "\n",
        "\n",
        "def vrp_solver(filename, sheet_name, capacity):\n",
        "    \"\"\"\n",
        "    Solve the VRP using the provided filename for coordinates and vehicle capacity.\n",
        "    \"\"\"\n",
        "    coordinates, demands = read_gsheet_file(filename, sheet_name)\n",
        "    dist_matrix = calculate_distance_matrix(coordinates)\n",
        "    routes = nearest_neighbor(dist_matrix, demands, capacity)\n",
        "    formatted_routes = format_output(routes)\n",
        "    return formatted_routes"
      ],
      "metadata": {
        "id": "BhdHyB08RpPj"
      },
      "execution_count": null,
      "outputs": []
    },
    {
      "cell_type": "markdown",
      "source": [
        "TWO OPT"
      ],
      "metadata": {
        "id": "CU3WrBqgYXgW"
      }
    },
    {
      "cell_type": "code",
      "source": [
        "def two_opt(routes, dist_matrix, num_iterations):\n",
        "    best_routes = routes.copy()\n",
        "\n",
        "    for _ in range(num_iterations):\n",
        "        selected_route_idx = np.random.randint(0, len(routes))\n",
        "        selected_route = routes[selected_route_idx]\n",
        "\n",
        "        i, j = np.random.randint(1, len(selected_route) - 1, size=2)\n",
        "        if j < i:\n",
        "            i, j = j, i\n",
        "\n",
        "        new_route = selected_route.copy()\n",
        "        new_route[i:j] = selected_route[j - 1: i - 1: -1]  # Reverse the path between i and j\n",
        "\n",
        "        new_routes = routes.copy()\n",
        "        new_routes[selected_route_idx] = new_route\n",
        "\n",
        "        if calculate_total_distance(new_routes[selected_route_idx], dist_matrix) < calculate_total_distance(\n",
        "                best_routes[selected_route_idx], dist_matrix\n",
        "        ):\n",
        "            best_routes = new_routes\n",
        "\n",
        "    return best_routes\n",
        "\n",
        "def vrp_solver2(filename, sheet_name, capacity, num_iterations):\n",
        "    \"\"\"\n",
        "    Solve the VRP using the provided filename for coordinates, vehicle capacity,\n",
        "    and number of iterations for the two-opt optimization.\n",
        "    \"\"\"\n",
        "    coordinates, demands = read_gsheet_file(filename, sheet_name)\n",
        "    dist_matrix = calculate_distance_matrix(coordinates)\n",
        "    routes = nearest_neighbor(dist_matrix, demands, capacity)\n",
        "\n",
        "    for i in range(len(routes)):\n",
        "        route = routes[i]\n",
        "        optimized_route = two_opt([route], dist_matrix, num_iterations)[0]\n",
        "        routes[i] = optimized_route\n",
        "\n",
        "    formatted_routes = format_output(routes)\n",
        "    return formatted_routes\n",
        "\n",
        "filename = r\"https://docs.google.com/spreadsheets/d/1EaKygkJMHa-EMJ3OJ4SsqqFC4ntDrdkiAfF_3nppP9Y/edit#gid=0\" #Copy file path\n",
        "sheet_name = \"Sheet1\"  # Specify the name of the sheet or its index\n",
        "capacity =  75\n",
        "num_iterations = 100000\n",
        "solution=vrp_solver2(filename, sheet_name, capacity, num_iterations)\n",
        "print(solution)\n",
        "\n",
        "for route in solution:\n",
        "    print(route)\n"
      ],
      "metadata": {
        "colab": {
          "base_uri": "https://localhost:8080/"
        },
        "id": "GT5VCxMtU5Ay",
        "outputId": "893c9b9b-7506-4f35-fb81-a95d1daf73a9"
      },
      "execution_count": null,
      "outputs": [
        {
          "output_type": "stream",
          "name": "stdout",
          "text": [
            "[[0, 2, 8, 1], [0, 4, 9], [0, 7, 10, 5, 3, 6]]\n",
            "[0, 2, 8, 1]\n",
            "[0, 4, 9]\n",
            "[0, 7, 10, 5, 3, 6]\n"
          ]
        }
      ]
    },
    {
      "cell_type": "markdown",
      "source": [
        "NEAREST NEIGHBOR"
      ],
      "metadata": {
        "id": "iwxyoMIPYQsp"
      }
    },
    {
      "cell_type": "code",
      "source": [
        "#Use nearest neighbor\n",
        "filename = r\"https://docs.google.com/spreadsheets/d/1EaKygkJMHa-EMJ3OJ4SsqqFC4ntDrdkiAfF_3nppP9Y/edit#gid=0\" #Copy file path\n",
        "sheet_name = \"Sheet1\"  # Specify the name of the sheet or its index\n",
        "capacity =  75\n",
        "solution = vrp_solver(filename, sheet_name, capacity)\n",
        "\n",
        "for route in solution:\n",
        "    print(route)"
      ],
      "metadata": {
        "colab": {
          "base_uri": "https://localhost:8080/"
        },
        "id": "yaih9HacR8GG",
        "outputId": "9ec42473-337b-4c8f-ad22-2755fbe2f2d8"
      },
      "execution_count": null,
      "outputs": [
        {
          "output_type": "stream",
          "name": "stdout",
          "text": [
            "[0, 2, 8, 1]\n",
            "[0, 4, 9]\n",
            "[0, 7, 5, 10, 3, 6]\n"
          ]
        }
      ]
    }
  ]
}